{
 "cells": [
  {
   "cell_type": "markdown",
   "id": "853be306",
   "metadata": {},
   "source": [
    "# Heap Sort\n",
    "***"
   ]
  },
  {
   "cell_type": "markdown",
   "id": "81201db0",
   "metadata": {},
   "source": [
    "What is Heap Sort?\n",
    "***"
   ]
  },
  {
   "cell_type": "markdown",
   "id": "b10085db",
   "metadata": {},
   "source": [
    "A heap is a complete binary tree, and the binary tree is a tree in which the node can have the utmost two children. A complete binary tree is a binary tree in which all the levels except the last level, i.e., leaf node, should be completely filled, and all the nodes should be left-justified. Ref:[www.javatpoint.com](https://www.javatpoint.com/heap-sort)"
   ]
  },
  {
   "cell_type": "markdown",
   "id": "53edfad7",
   "metadata": {},
   "source": [
    "To really understand Heap Sort we should first start off discussing lists in Python and what they do."
   ]
  },
  {
   "cell_type": "markdown",
   "id": "a5f87be0",
   "metadata": {},
   "source": [
    "# Lists\n",
    "***"
   ]
  },
  {
   "cell_type": "markdown",
   "id": "86e09a4e",
   "metadata": {},
   "source": [
    "List in Python and very powerful and useful compared to other listing methods in languages such as arrays. It is very easy to creat a list in python as shown in the example below. "
   ]
  },
  {
   "cell_type": "code",
   "execution_count": 1,
   "id": "0cad8ac8",
   "metadata": {},
   "outputs": [],
   "source": [
    "# To create a list in python we need to use square brackets \n",
    "L = [1, 2, 3]"
   ]
  },
  {
   "cell_type": "code",
   "execution_count": 2,
   "id": "97d95b67",
   "metadata": {},
   "outputs": [
    {
     "data": {
      "text/plain": [
       "[1, 2, 3]"
      ]
     },
     "execution_count": 2,
     "metadata": {},
     "output_type": "execute_result"
    }
   ],
   "source": [
    "# To view the complete list back you have to call the list\n",
    "L"
   ]
  },
  {
   "cell_type": "code",
   "execution_count": 3,
   "id": "48079872",
   "metadata": {},
   "outputs": [
    {
     "data": {
      "text/plain": [
       "1"
      ]
     },
     "execution_count": 3,
     "metadata": {},
     "output_type": "execute_result"
    }
   ],
   "source": [
    "#To view a particular item in the list you must use its index\n",
    "L[0]"
   ]
  },
  {
   "cell_type": "markdown",
   "id": "fb826526",
   "metadata": {},
   "source": [
    "Notice the list index starts with 0."
   ]
  },
  {
   "cell_type": "markdown",
   "id": "30c3f3b0",
   "metadata": {},
   "source": [
    "Python List does not have to all of the same type as shown below."
   ]
  },
  {
   "cell_type": "code",
   "execution_count": 4,
   "id": "edd58feb",
   "metadata": {},
   "outputs": [],
   "source": [
    "L = [\"Python List\",1999, True]"
   ]
  },
  {
   "cell_type": "code",
   "execution_count": 5,
   "id": "127f9f8f",
   "metadata": {},
   "outputs": [
    {
     "data": {
      "text/plain": [
       "['Python List', 1999, True]"
      ]
     },
     "execution_count": 5,
     "metadata": {},
     "output_type": "execute_result"
    }
   ],
   "source": [
    "L"
   ]
  },
  {
   "cell_type": "markdown",
   "id": "6f4995c9",
   "metadata": {},
   "source": [
    "Python also has a lot of usefull in built fuctions for list such as Range, Slices and list comperhenstions that we will be looking at."
   ]
  },
  {
   "cell_type": "markdown",
   "id": "5ccf8df7",
   "metadata": {},
   "source": [
    "## Range\n",
    "***"
   ]
  },
  {
   "cell_type": "markdown",
   "id": "c8929858",
   "metadata": {},
   "source": [
    "Range uses 3 paramaters 1). Strating index 2). Range of the list 3). steps of the list as shown in the example below. If you leave the 1st or 3rd paramaters black python will assume them for you."
   ]
  },
  {
   "cell_type": "code",
   "execution_count": 6,
   "id": "f8dbe924",
   "metadata": {},
   "outputs": [],
   "source": [
    "L = list(range(0, 15, 1))\n",
    "#starting point is 1 lenght of the list is 15 and the steps is 1 \n"
   ]
  },
  {
   "cell_type": "code",
   "execution_count": 7,
   "id": "3e0aa9cf",
   "metadata": {},
   "outputs": [
    {
     "data": {
      "text/plain": [
       "[0, 1, 2, 3, 4, 5, 6, 7, 8, 9, 10, 11, 12, 13, 14]"
      ]
     },
     "execution_count": 7,
     "metadata": {},
     "output_type": "execute_result"
    }
   ],
   "source": [
    "L"
   ]
  },
  {
   "cell_type": "code",
   "execution_count": 8,
   "id": "444ce8a0",
   "metadata": {},
   "outputs": [],
   "source": [
    "#leaving some of the paramaters black python will assume the \n",
    "#starting point as one and the steps as 1\n",
    "L = list(range (15))"
   ]
  },
  {
   "cell_type": "code",
   "execution_count": 9,
   "id": "a92316e0",
   "metadata": {},
   "outputs": [
    {
     "data": {
      "text/plain": [
       "[0, 1, 2, 3, 4, 5, 6, 7, 8, 9, 10, 11, 12, 13, 14]"
      ]
     },
     "execution_count": 9,
     "metadata": {},
     "output_type": "execute_result"
    }
   ],
   "source": [
    "L"
   ]
  },
  {
   "cell_type": "markdown",
   "id": "d5c3b84c",
   "metadata": {},
   "source": [
    "## Slicing\n",
    "***"
   ]
  },
  {
   "cell_type": "markdown",
   "id": "2bc43b69",
   "metadata": {},
   "source": [
    "List Slicing is very similar to range but uses colons instead of brackets as shown below."
   ]
  },
  {
   "cell_type": "code",
   "execution_count": 10,
   "id": "c77b7719",
   "metadata": {},
   "outputs": [
    {
     "data": {
      "text/plain": [
       "[1, 4, 7, 10, 13]"
      ]
     },
     "execution_count": 10,
     "metadata": {},
     "output_type": "execute_result"
    }
   ],
   "source": [
    "L[1:20:3]\n",
    "#Start at 2 , lenght of 25, and steps of 3"
   ]
  },
  {
   "cell_type": "markdown",
   "id": "8113278e",
   "metadata": {},
   "source": [
    "## List comprehension\n",
    "***"
   ]
  },
  {
   "cell_type": "markdown",
   "id": "8af8818f",
   "metadata": {},
   "source": [
    "List Comprehensions create a lsit form another list. Like a for loop would do. These are useful because instead of right 3 to 4 lines of code for a for loop you can get the same result for one line using List comprehension."
   ]
  },
  {
   "cell_type": "code",
   "execution_count": 11,
   "id": "90710d53",
   "metadata": {},
   "outputs": [
    {
     "data": {
      "text/plain": [
       "[0, 1, 8, 27, 64]"
      ]
     },
     "execution_count": 11,
     "metadata": {},
     "output_type": "execute_result"
    }
   ],
   "source": [
    "#instead of writing a full for loop its shorted to one line\n",
    "L = list(range(5))\n",
    "[i**3 for i in L]"
   ]
  },
  {
   "cell_type": "markdown",
   "id": "58f5975b",
   "metadata": {},
   "source": [
    "The last thing we need to know about list is the use of Tuples and the meaning of immutability."
   ]
  },
  {
   "cell_type": "markdown",
   "id": "2fc33b33",
   "metadata": {},
   "source": [
    "## Tuples\n",
    "***"
   ]
  },
  {
   "cell_type": "markdown",
   "id": "62a21481",
   "metadata": {},
   "source": [
    "Tuples are used to store multiple items in a single variable. Tuple is one of 4 built-in data types in Python used to store collections of data, the other 3 are List, Set, and Dictionary, all with different qualities and usage. A tuple is a collection which is ordered and unchangeable. Ref: [W3schools.com](https://www.w3schools.com/python/python_tuples.asp#:~:text=Tuples%20are%20used%20to%20store,which%20is%20ordered%20and%20unchangeable.)"
   ]
  },
  {
   "cell_type": "markdown",
   "id": "1100a3f9",
   "metadata": {},
   "source": [
    "Tuples are immuatable meaning they are constant andcan not be changed, because of this they can be hashed and are very fast. One of the difference between a tuple and a lsit is a tuple does not need brackets as seen below."
   ]
  },
  {
   "cell_type": "code",
   "execution_count": 12,
   "id": "eb6d6d87",
   "metadata": {},
   "outputs": [],
   "source": [
    "T = 1,2,3"
   ]
  },
  {
   "cell_type": "code",
   "execution_count": 13,
   "id": "e3151813",
   "metadata": {},
   "outputs": [
    {
     "data": {
      "text/plain": [
       "(1, 2, 3)"
      ]
     },
     "execution_count": 13,
     "metadata": {},
     "output_type": "execute_result"
    }
   ],
   "source": [
    "T"
   ]
  },
  {
   "cell_type": "code",
   "execution_count": 14,
   "id": "ce2fa270",
   "metadata": {},
   "outputs": [],
   "source": [
    "#Because they are immutability they can not be assigned as such,\n",
    "#T[0]=5, this would throw a error"
   ]
  },
  {
   "cell_type": "markdown",
   "id": "462c19e5",
   "metadata": {},
   "source": [
    "Because the list will not change we can hash a tuple, we can do this by using the hash fuction shown below."
   ]
  },
  {
   "cell_type": "code",
   "execution_count": 15,
   "id": "a3fa0121",
   "metadata": {},
   "outputs": [
    {
     "data": {
      "text/plain": [
       "529344067295497451"
      ]
     },
     "execution_count": 15,
     "metadata": {},
     "output_type": "execute_result"
    }
   ],
   "source": [
    "hash(T)"
   ]
  },
  {
   "cell_type": "markdown",
   "id": "34f48b69",
   "metadata": {},
   "source": [
    "# HeapSort\n",
    "***"
   ]
  },
  {
   "cell_type": "markdown",
   "id": "be92af6e",
   "metadata": {},
   "source": [
    "Now that we have a better understanding on list and how to use them we can take a look into HeapSortand how it works and how to use it."
   ]
  },
  {
   "cell_type": "markdown",
   "id": "d8e7fb86",
   "metadata": {},
   "source": [
    "## Why we use HeapSort?\n",
    "***"
   ]
  },
  {
   "cell_type": "markdown",
   "id": "d7b510f8",
   "metadata": {},
   "source": [
    "Heap Sort is the most efficient sorting algorithm in comparison to others. Heap Sort is great for large list of data because HeapSort increases logarithmically meaning it is optimal to get through large amounts of data unlike other algorithms and slow down as the data set gets bigger. Heap Sorts memory useage is also the most efficient, the only memory it needs is whats used to hold the data list its self it requires no extra space to work. Heap Sort is also the most consistent sorting algorithm out there preforming reliably every time."
   ]
  },
  {
   "cell_type": "markdown",
   "id": "58705f89",
   "metadata": {},
   "source": [
    "## How HeapSort works\n",
    "***"
   ]
  },
  {
   "cell_type": "markdown",
   "id": "b38ca984",
   "metadata": {},
   "source": [
    "Heap Sort works by creating a binary tree of nodes from the data list it was given, this list is unsorted. The first thing it would do is find whats called the max heap to do this in python we would use the heapify function, this is to sort the tree into ascending order. You can see this in the image below."
   ]
  },
  {
   "cell_type": "markdown",
   "id": "9e44df4f",
   "metadata": {},
   "source": [
    "<img src = \"maxheap.png\"/>"
   ]
  },
  {
   "cell_type": "markdown",
   "id": "5ba46a64",
   "metadata": {},
   "source": [
    "After the heap is created we swap the root node mean the first one with the last node to do this in python we use the swap function. After this is done we remove the node from the binary tree and consider it sorted. We do this untill one node remains and the list is sorted.\n",
    "img ref:[HackerEarth.com](https://www.hackerearth.com/practice/algorithms/sorting/heap-sort/tutorial/)"
   ]
  },
  {
   "cell_type": "markdown",
   "id": "fd1de664",
   "metadata": {},
   "source": [
    "## Implementing HeapSort\n",
    "***"
   ]
  },
  {
   "cell_type": "code",
   "execution_count": 38,
   "id": "02bdeef3",
   "metadata": {},
   "outputs": [],
   "source": [
    "#HeapSort in Action\n",
    "def siftDown(L, parent, end):\n",
    "    \"\"\"L[parent:end+1] should almost be a max heap.\n",
    "       siftDown repairs it so that it is one.\"\"\"\n",
    "    \n",
    "    # Keep track of the number of comparisons.\n",
    "    no_comparisons = 0\n",
    "    \n",
    "    # While parent is actually a parent (has at least a left child).\n",
    "    while 2*parent + 1 <= end:\n",
    "        # The indices of the children of parent.\n",
    "        lchild = 2 * parent + 1\n",
    "        rchild = 2 * parent + 2\n",
    "        \n",
    "        # the parent is larger than the children.\n",
    "        swap = parent\n",
    "        # Checking if the parent smaller than the left child\n",
    "        if L[swap] < L[lchild]:\n",
    "            # Then swap is set to index of left child.\n",
    "            swap = lchild\n",
    "            # Increment no_comparisons.\n",
    "            no_comparisons = no_comparisons + 1\n",
    "        # Check if right child exists and is smaller than L[swap].\n",
    "        if rchild <= end and L[swap] < L[rchild]:\n",
    "            # Then swap is set to index of right child.\n",
    "            swap = rchild\n",
    "            # Increment no_comparisons.\n",
    "            no_comparisons = no_comparisons + 1\n",
    "        # When the parent is bigger than the child its a max heap\n",
    "        if swap == parent:\n",
    "            break \n",
    "        else:\n",
    "            # Swap the parent with the bigger child.\n",
    "            L[parent], L[swap] = L[swap], L[parent]\n",
    "            # Set parent to bigger child's index.\n",
    "            parent = swap\n",
    "    \n",
    "    # Return the number of comparisons.\n",
    "    return no_comparisons"
   ]
  },
  {
   "cell_type": "code",
   "execution_count": 17,
   "id": "4ce7b8ea",
   "metadata": {},
   "outputs": [],
   "source": [
    "def heapsort(L):\n",
    "    #Sorts the list L in-place using Heap Sort.\n",
    "    \n",
    "    # Keep track of the number of comparisons.\n",
    "    no_comparisons = 0\n",
    "    # Index of the last element.\n",
    "    last_element = len(L) - 1\n",
    "    # get the last parent.\n",
    "    last_parent = (last_element - 1) // 2\n",
    "    # Loop backwards through all parents.\n",
    "    for parent in range(last_parent, -1, -1):\n",
    "        # Sift down.\n",
    "        no_comparisons = no_comparisons + siftDown(L, parent, last_element)\n",
    "\n",
    "    # Segregate the list L into two parts:\n",
    "    #   1. L[:end] is a max heap\n",
    "    #   2. Each element beyond end is greater than everything before it.\n",
    "    # While there are still elements in the heap.\n",
    "    for end in range(last_element, 0, -1):\n",
    "        # Swap the element at index 0 with the element at index end.\n",
    "        L[0], L[end] = L[end], L[0]\n",
    "        # Fix the heap - the root is currently out of place.\n",
    "        no_comparisons = no_comparisons + siftDown(L, 0, end - 1)\n",
    "    \n",
    "    # Return the number of comparisons.\n",
    "    return no_comparisons"
   ]
  },
  {
   "cell_type": "code",
   "execution_count": 18,
   "id": "2045f8d0",
   "metadata": {},
   "outputs": [],
   "source": [
    "L = [27, 4, 18, 12, 9, 26, 20, 2]"
   ]
  },
  {
   "cell_type": "code",
   "execution_count": 19,
   "id": "94321759",
   "metadata": {},
   "outputs": [
    {
     "data": {
      "text/plain": [
       "[27, 4, 18, 12, 9, 26, 20, 2]"
      ]
     },
     "execution_count": 19,
     "metadata": {},
     "output_type": "execute_result"
    }
   ],
   "source": [
    "L"
   ]
  },
  {
   "cell_type": "code",
   "execution_count": 20,
   "id": "48f6b521",
   "metadata": {},
   "outputs": [
    {
     "data": {
      "text/plain": [
       "[2, 4, 9, 12, 18, 20, 26, 27]"
      ]
     },
     "execution_count": 20,
     "metadata": {},
     "output_type": "execute_result"
    }
   ],
   "source": [
    "# Heap sort working\n",
    "heapsort(L)\n",
    "L"
   ]
  },
  {
   "cell_type": "markdown",
   "id": "8cc1dbd5",
   "metadata": {},
   "source": [
    "## Preformance\n",
    "***"
   ]
  },
  {
   "cell_type": "markdown",
   "id": "3ccb9314",
   "metadata": {},
   "source": [
    "Heapsort is an efficient, unstable sorting algorithm with an average, best-case, and worst-case time complexity of O(n log n).\n",
    "\n",
    "ref: [HappyCoders.eu](https://www.happycoders.eu/algorithms/heapsort/#:~:text=Heapsort%20is%20an%20efficient%2C%20unstable,less%20commonly%20encountered%20in%20practice.)"
   ]
  },
  {
   "cell_type": "markdown",
   "id": "b36db39b",
   "metadata": {},
   "source": [
    "# Comparing algorithims\n",
    "***"
   ]
  },
  {
   "cell_type": "markdown",
   "id": "ca7cb310",
   "metadata": {},
   "source": [
    "The two algorithims I will be comparing today is Bubble Sort and Heap Sort.\n",
    "First will will have to understand how bubble sort works."
   ]
  },
  {
   "cell_type": "markdown",
   "id": "0f87c536",
   "metadata": {},
   "source": [
    "## Bubble Sort"
   ]
  },
  {
   "cell_type": "markdown",
   "id": "099fb0f4",
   "metadata": {},
   "source": [
    "Bubble Sort works by looking at adjacent pair in a list and comparing them to see which one is bigger,If the umber on the left is bigger than the number on the right then the pair are swaped and the larger number is now on the right of the list. It may take many iteration of going through the list depending on its size. By doing this it bubbles the larger numbers to the left hence the name bubble sort, once this is complete the list will be sorted from smallest to largest. Bubble Sort has a worse case time complexity of O(n2). View the image below to get a better understanding.  "
   ]
  },
  {
   "cell_type": "markdown",
   "id": "70f439f4",
   "metadata": {},
   "source": [
    "<img src = \"Bubblesort.jpeg\"/>"
   ]
  },
  {
   "cell_type": "markdown",
   "id": "5c342586",
   "metadata": {},
   "source": [
    "Ref img: [www.GeeksForGeeks.com](https://www.geeksforgeeks.org/bubble-sort/)"
   ]
  },
  {
   "cell_type": "markdown",
   "id": "feb336a2",
   "metadata": {},
   "source": [
    "Bubble Sort in action"
   ]
  },
  {
   "cell_type": "code",
   "execution_count": 21,
   "id": "45eb116f",
   "metadata": {},
   "outputs": [],
   "source": [
    "# First we need to import Random from the library as we will be using it later.\n",
    "import random"
   ]
  },
  {
   "cell_type": "code",
   "execution_count": 22,
   "id": "f21c308d",
   "metadata": {},
   "outputs": [
    {
     "data": {
      "text/plain": [
       "[1, 2, 3, 4, 5, 6, 7, 8, 9, 10, 11, 12, 13, 14]"
      ]
     },
     "execution_count": 22,
     "metadata": {},
     "output_type": "execute_result"
    }
   ],
   "source": [
    "# Create a simple list of numbers.\n",
    "L = list(range(1, 15))\n",
    "L"
   ]
  },
  {
   "cell_type": "code",
   "execution_count": 23,
   "id": "117d86b2",
   "metadata": {},
   "outputs": [
    {
     "data": {
      "text/plain": [
       "[13, 5, 7, 6, 2, 1, 11, 9, 12, 14, 10, 8, 4, 3]"
      ]
     },
     "execution_count": 23,
     "metadata": {},
     "output_type": "execute_result"
    }
   ],
   "source": [
    "# Shuffle the list and call it.\n",
    "random.shuffle(L)\n",
    "L"
   ]
  },
  {
   "cell_type": "code",
   "execution_count": 24,
   "id": "0dd52845",
   "metadata": {},
   "outputs": [],
   "source": [
    "# Craete the function\n",
    "def bubble_sort(L):\n",
    "    # Keep track of number of comparisons in the list.\n",
    "    no_comparisons = 0\n",
    "\n",
    "    # Bubble the larger element up.\n",
    "    for j in range(len(L) - 1):\n",
    "        # Keep track of any swaps.\n",
    "        swapped = False\n",
    "        # Compare all elements that are adjacent.\n",
    "        for i in range(len(L) - 1 - j):\n",
    "            # Compare the ith element with the (i+1)th.\n",
    "            if L[i] > L[i+1]:\n",
    "                # Swap the elements.\n",
    "                L[i], L[i+1] = L[i+1], L[i]\n",
    "                # Keep track of the swap.\n",
    "                swapped = True\n",
    "            # Add a comparison.\n",
    "            no_comparisons = no_comparisons + 1\n",
    "        # if there was no swaps quit.\n",
    "        if not swapped:\n",
    "            break\n",
    "    # Return the number of comparisons made.\n",
    "    return no_comparisons"
   ]
  },
  {
   "cell_type": "code",
   "execution_count": 25,
   "id": "5904877c",
   "metadata": {},
   "outputs": [
    {
     "data": {
      "text/plain": [
       "90"
      ]
     },
     "execution_count": 25,
     "metadata": {},
     "output_type": "execute_result"
    }
   ],
   "source": [
    "#call the function\n",
    "bubble_sort(L)\n",
    "#This will sort the list and print the number of comparisons"
   ]
  },
  {
   "cell_type": "code",
   "execution_count": 26,
   "id": "41132013",
   "metadata": {},
   "outputs": [
    {
     "data": {
      "text/plain": [
       "[1, 2, 3, 4, 5, 6, 7, 8, 9, 10, 11, 12, 13, 14]"
      ]
     },
     "execution_count": 26,
     "metadata": {},
     "output_type": "execute_result"
    }
   ],
   "source": [
    "#now we can call the sorted list \n",
    "L"
   ]
  },
  {
   "cell_type": "markdown",
   "id": "13983a86",
   "metadata": {},
   "source": [
    "## Bubble Vs Heap Sort\n",
    "***"
   ]
  },
  {
   "cell_type": "markdown",
   "id": "fdc1e189",
   "metadata": {},
   "source": [
    "Becasue we now know the differences between Heap Sort and bubble sort we can have a look at using the algorithims now."
   ]
  },
  {
   "cell_type": "code",
   "execution_count": 27,
   "id": "f46489b8",
   "metadata": {},
   "outputs": [
    {
     "data": {
      "text/plain": [
       "([1, 2, 3, 7, 17, 19, 25, 36, 100], 12)"
      ]
     },
     "execution_count": 27,
     "metadata": {},
     "output_type": "execute_result"
    }
   ],
   "source": [
    "# use heap sort and show the number of comparisons made.\n",
    "L = [19, 100, 36, 25, 3, 17, 7, 1, 2]\n",
    "no_comparisons = heapsort(L)\n",
    "L, no_comparisons"
   ]
  },
  {
   "cell_type": "code",
   "execution_count": 28,
   "id": "909b8ba9",
   "metadata": {},
   "outputs": [
    {
     "data": {
      "text/plain": [
       "([1, 2, 3, 7, 17, 19, 25, 36, 100], 36)"
      ]
     },
     "execution_count": 28,
     "metadata": {},
     "output_type": "execute_result"
    }
   ],
   "source": [
    "# use bubble sort and show the number of comparisons made.\n",
    "L = [19, 100, 36, 25, 3, 17, 7, 1, 2]\n",
    "no_comparisons = bubble_sort(L)\n",
    "L, no_comparisons"
   ]
  },
  {
   "cell_type": "code",
   "execution_count": 37,
   "id": "acf7e564",
   "metadata": {},
   "outputs": [
    {
     "name": "stdout",
     "output_type": "stream",
     "text": [
      "\n",
      "__________|b|h|    b = bubble sort comparisons.   h = heap sort comparisons\n",
      "0, 1, 2, 3|3|6\n",
      "0, 1, 3, 2|5|5\n",
      "0, 2, 1, 3|5|4\n",
      "0, 2, 3, 1|6|4\n",
      "0, 3, 1, 2|5|3\n",
      "0, 3, 2, 1|6|5\n",
      "1, 0, 2, 3|5|5\n",
      "1, 0, 3, 2|5|4\n",
      "1, 2, 0, 3|6|5\n",
      "1, 2, 3, 0|6|3\n",
      "1, 3, 0, 2|6|4\n",
      "1, 3, 2, 0|6|4\n",
      "2, 0, 1, 3|5|3\n",
      "2, 0, 3, 1|6|5\n",
      "2, 1, 0, 3|6|4\n",
      "2, 1, 3, 0|6|4\n",
      "2, 3, 0, 1|6|3\n",
      "2, 3, 1, 0|6|2\n",
      "3, 0, 1, 2|5|2\n",
      "3, 0, 2, 1|6|4\n",
      "3, 1, 0, 2|6|3\n",
      "3, 1, 2, 0|6|3\n",
      "3, 2, 0, 1|6|2\n",
      "3, 2, 1, 0|6|1\n"
     ]
    }
   ],
   "source": [
    "# A module full of combinatorial functions.\n",
    "import itertools\n",
    "\n",
    "# Length of example list.\n",
    "n = 4\n",
    "print(f'')\n",
    "print(f'__________|b|h|    b = bubble sort comparisons.   h = heap sort comparisons')\n",
    "\n",
    "# Loop through all permutations of the list of integers from 0 to n.\n",
    "for perm in itertools.permutations(range(n)):\n",
    "    L = list(perm)\n",
    "    bubb_comp = bubble_sort(L)\n",
    "    L = list(perm)\n",
    "    heap_comp = heapsort(L)\n",
    "    print(f'{str(perm)[1:-1]}|{bubb_comp}|{heap_comp}')"
   ]
  },
  {
   "cell_type": "markdown",
   "id": "45c6af36",
   "metadata": {},
   "source": [
    "## Computational Complexity\n"
   ]
  },
  {
   "cell_type": "markdown",
   "id": "c0367af8",
   "metadata": {},
   "source": [
    "### What is Computational Complexity\n"
   ]
  },
  {
   "cell_type": "markdown",
   "id": "f0f19117",
   "metadata": {},
   "source": [
    "Computational complexity is the amount of time, memory and other resources used to execute a particular algorithim. Computational complexity is more commonly known as the Big O Notation.\n",
    "Computational complexity is most commonly used to see what algorithims would work best for solving a particular problem."
   ]
  },
  {
   "cell_type": "markdown",
   "id": "a0562bba",
   "metadata": {},
   "source": [
    "### Computational Complexity of HeapSort"
   ]
  },
  {
   "cell_type": "markdown",
   "id": "edef4f9d",
   "metadata": {},
   "source": [
    "As seen above we know the Big O Notation is O(n log n) meaning its a algorithim that divides its self in half over and over again and then processes the halfs independently with another sub algorithim with the Big O Notation of O(N). This is known as the divide and conquer method. Heap sort shares it Big O Notation with merge sort and quick sort."
   ]
  },
  {
   "cell_type": "markdown",
   "id": "326bcdd8",
   "metadata": {},
   "source": [
    "# Refrences:\n",
    "***\n"
   ]
  },
  {
   "cell_type": "markdown",
   "id": "95fd43e9",
   "metadata": {},
   "source": [
    "1).https://www.javatpoint.com/heap-sort\n",
    "2).https://www.w3schools.com/python/python_tuples.asp#:~:text=Tuples%20are%20used%20to%20store,which%20is%20ordered%20and%20unchangeable.\n",
    "3).https://www.hackerearth.com/practice/algorithms/sorting/heap-sort/tutorial/\n",
    "4).https://www.hackerearth.com/practice/algorithms/sorting/heap-sort/tutorial/\n",
    "5).https://www.happycoders.eu/algorithms/heapsort/#:~:text=Heapsort%20is%20an%20efficient%2C%20unstable,less%20commonly%20encountered%20in%20practice.\n",
    "6).https://www.geeksforgeeks.org/bubble-sort/\n"
   ]
  },
  {
   "cell_type": "code",
   "execution_count": null,
   "id": "b1df9da1",
   "metadata": {},
   "outputs": [],
   "source": []
  }
 ],
 "metadata": {
  "kernelspec": {
   "display_name": "Python 3 (ipykernel)",
   "language": "python",
   "name": "python3"
  },
  "language_info": {
   "codemirror_mode": {
    "name": "ipython",
    "version": 3
   },
   "file_extension": ".py",
   "mimetype": "text/x-python",
   "name": "python",
   "nbconvert_exporter": "python",
   "pygments_lexer": "ipython3",
   "version": "3.9.7"
  }
 },
 "nbformat": 4,
 "nbformat_minor": 5
}
