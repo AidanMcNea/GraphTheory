{
 "cells": [
  {
   "cell_type": "markdown",
   "id": "9aa5ba6b",
   "metadata": {},
   "source": [
    "# Heap Sort\n",
    "***"
   ]
  },
  {
   "cell_type": "markdown",
   "id": "dc39573f",
   "metadata": {},
   "source": [
    "What is Heap Sort?\n",
    "***"
   ]
  },
  {
   "cell_type": "markdown",
   "id": "6d1fe4c8",
   "metadata": {},
   "source": [
    "A heap is a complete binary tree, and the binary tree is a tree in which the node can have the utmost two children. A complete binary tree is a binary tree in which all the levels except the last level, i.e., leaf node, should be completely filled, and all the nodes should be left-justified. Ref:[www.javatpoint.com](https://www.javatpoint.com/heap-sort)"
   ]
  },
  {
   "cell_type": "markdown",
   "id": "a018bee1",
   "metadata": {},
   "source": [
    "To really understand Heap Sort we should first start off discussing lists in Python and what they do."
   ]
  },
  {
   "cell_type": "markdown",
   "id": "1b9fdeb9",
   "metadata": {},
   "source": [
    "# Lists\n",
    "***"
   ]
  },
  {
   "cell_type": "markdown",
   "id": "59211a44",
   "metadata": {},
   "source": [
    "List in Python and very powerful and useful compared to other listing methods in languages such as arrays. It is very easy to creat a list in python as shown in the example below. "
   ]
  },
  {
   "cell_type": "code",
   "execution_count": 1,
   "id": "d6906020",
   "metadata": {},
   "outputs": [],
   "source": [
    "# To create a list in python we need to use square brackets \n",
    "L = [1, 2, 3]"
   ]
  },
  {
   "cell_type": "code",
   "execution_count": 2,
   "id": "e818fe14",
   "metadata": {},
   "outputs": [
    {
     "data": {
      "text/plain": [
       "[1, 2, 3]"
      ]
     },
     "execution_count": 2,
     "metadata": {},
     "output_type": "execute_result"
    }
   ],
   "source": [
    "# To view the complete list back you have to call the list\n",
    "L"
   ]
  },
  {
   "cell_type": "code",
   "execution_count": 3,
   "id": "00e78bba",
   "metadata": {},
   "outputs": [
    {
     "data": {
      "text/plain": [
       "1"
      ]
     },
     "execution_count": 3,
     "metadata": {},
     "output_type": "execute_result"
    }
   ],
   "source": [
    "#To view a particular item in the list you must use its index\n",
    "L[0]"
   ]
  },
  {
   "cell_type": "markdown",
   "id": "56af51be",
   "metadata": {},
   "source": [
    "Notice the list index starts with 0."
   ]
  },
  {
   "cell_type": "markdown",
   "id": "5d070b33",
   "metadata": {},
   "source": [
    "Python List does not have to all of the same type as shown below."
   ]
  },
  {
   "cell_type": "code",
   "execution_count": 4,
   "id": "d9afbb6f",
   "metadata": {},
   "outputs": [],
   "source": [
    "L = [\"Python List\",1999, True]"
   ]
  },
  {
   "cell_type": "code",
   "execution_count": 5,
   "id": "c70abbe9",
   "metadata": {},
   "outputs": [
    {
     "data": {
      "text/plain": [
       "['Python List', 1999, True]"
      ]
     },
     "execution_count": 5,
     "metadata": {},
     "output_type": "execute_result"
    }
   ],
   "source": [
    "L"
   ]
  },
  {
   "cell_type": "markdown",
   "id": "ecfdfb44",
   "metadata": {},
   "source": [
    "Python also has a lot of usefull in built fuctions for list such as Range, Slices and list comperhenstions that we will be looking at."
   ]
  },
  {
   "cell_type": "markdown",
   "id": "cb1e4222",
   "metadata": {},
   "source": [
    "## Range\n",
    "***"
   ]
  },
  {
   "cell_type": "markdown",
   "id": "6db8a3c9",
   "metadata": {},
   "source": [
    "Range uses 3 paramaters 1). Strating index 2). Range of the list 3). steps of the list as shown in the example below. If you leave the 1st or 3rd paramaters black python will assume them for you."
   ]
  },
  {
   "cell_type": "code",
   "execution_count": 6,
   "id": "fd0f5f6f",
   "metadata": {},
   "outputs": [],
   "source": [
    "L = list(range(0, 15, 1))\n",
    "#starting point is 1 lenght of the list is 15 and the steps is 1 \n"
   ]
  },
  {
   "cell_type": "code",
   "execution_count": 7,
   "id": "aa9f2977",
   "metadata": {},
   "outputs": [
    {
     "data": {
      "text/plain": [
       "[0, 1, 2, 3, 4, 5, 6, 7, 8, 9, 10, 11, 12, 13, 14]"
      ]
     },
     "execution_count": 7,
     "metadata": {},
     "output_type": "execute_result"
    }
   ],
   "source": [
    "L"
   ]
  },
  {
   "cell_type": "code",
   "execution_count": 8,
   "id": "d40c63b9",
   "metadata": {},
   "outputs": [],
   "source": [
    "#leaving some of the paramaters black python will assume the \n",
    "#starting point as one and the steps as 1\n",
    "L = list(range (15))"
   ]
  },
  {
   "cell_type": "code",
   "execution_count": 9,
   "id": "5b7ee889",
   "metadata": {},
   "outputs": [
    {
     "data": {
      "text/plain": [
       "[0, 1, 2, 3, 4, 5, 6, 7, 8, 9, 10, 11, 12, 13, 14]"
      ]
     },
     "execution_count": 9,
     "metadata": {},
     "output_type": "execute_result"
    }
   ],
   "source": [
    "L"
   ]
  },
  {
   "cell_type": "markdown",
   "id": "6380a62e",
   "metadata": {},
   "source": [
    "## Slicing\n",
    "***"
   ]
  },
  {
   "cell_type": "markdown",
   "id": "aba53ee2",
   "metadata": {},
   "source": [
    "List Slicing is very similar to range but uses colons instead of brackets as shown below."
   ]
  },
  {
   "cell_type": "code",
   "execution_count": 10,
   "id": "09f74f4a",
   "metadata": {},
   "outputs": [
    {
     "data": {
      "text/plain": [
       "[1, 4, 7, 10, 13]"
      ]
     },
     "execution_count": 10,
     "metadata": {},
     "output_type": "execute_result"
    }
   ],
   "source": [
    "L[1:20:3]\n",
    "#Start at 2 , lenght of 25, and steps of 3"
   ]
  },
  {
   "cell_type": "markdown",
   "id": "32eb5e9c",
   "metadata": {},
   "source": [
    "## List comprehension\n",
    "***"
   ]
  },
  {
   "cell_type": "markdown",
   "id": "148d8803",
   "metadata": {},
   "source": [
    "List Comprehensions create a lsit form another list. Like a for loop would do. These are useful because instead of right 3 to 4 lines of code for a for loop you can get the same result for one line using List comprehension."
   ]
  },
  {
   "cell_type": "code",
   "execution_count": 11,
   "id": "4ed12dc2",
   "metadata": {},
   "outputs": [
    {
     "data": {
      "text/plain": [
       "[0, 1, 8, 27, 64]"
      ]
     },
     "execution_count": 11,
     "metadata": {},
     "output_type": "execute_result"
    }
   ],
   "source": [
    "#instead of writing a full for loop its shorted to one line\n",
    "L = list(range(5))\n",
    "[i**3 for i in L]"
   ]
  },
  {
   "cell_type": "markdown",
   "id": "443a3c81",
   "metadata": {},
   "source": [
    "The last thing we need to know about list is the use of Tuples and the meaning of immutability."
   ]
  },
  {
   "cell_type": "markdown",
   "id": "d3868069",
   "metadata": {},
   "source": [
    "## Tuples\n",
    "***"
   ]
  },
  {
   "cell_type": "markdown",
   "id": "63ccbd44",
   "metadata": {},
   "source": [
    "Tuples are used to store multiple items in a single variable. Tuple is one of 4 built-in data types in Python used to store collections of data, the other 3 are List, Set, and Dictionary, all with different qualities and usage. A tuple is a collection which is ordered and unchangeable. Ref: [W3schools.com](https://www.w3schools.com/python/python_tuples.asp#:~:text=Tuples%20are%20used%20to%20store,which%20is%20ordered%20and%20unchangeable.)"
   ]
  },
  {
   "cell_type": "markdown",
   "id": "43757a8b",
   "metadata": {},
   "source": [
    "Tuples are immuatable meaning they are constant andcan not be changed, because of this they can be hashed and are very fast. One of the difference between a tuple and a lsit is a tuple does not need brackets as seen below."
   ]
  },
  {
   "cell_type": "code",
   "execution_count": 12,
   "id": "f6f718f4",
   "metadata": {},
   "outputs": [],
   "source": [
    "T = 1,2,3"
   ]
  },
  {
   "cell_type": "code",
   "execution_count": 13,
   "id": "b9bc1e7f",
   "metadata": {},
   "outputs": [
    {
     "data": {
      "text/plain": [
       "(1, 2, 3)"
      ]
     },
     "execution_count": 13,
     "metadata": {},
     "output_type": "execute_result"
    }
   ],
   "source": [
    "T"
   ]
  },
  {
   "cell_type": "code",
   "execution_count": 14,
   "id": "c66f5d0a",
   "metadata": {},
   "outputs": [],
   "source": [
    "#Because they are immutability they can not be assigned as such,\n",
    "#T[0]=5, this would throw a error"
   ]
  },
  {
   "cell_type": "markdown",
   "id": "c834d86b",
   "metadata": {},
   "source": [
    "Because the list will not change we can hash a tuple, we can do this by using the hash fuction shown below."
   ]
  },
  {
   "cell_type": "code",
   "execution_count": 15,
   "id": "02bf3f06",
   "metadata": {},
   "outputs": [
    {
     "data": {
      "text/plain": [
       "529344067295497451"
      ]
     },
     "execution_count": 15,
     "metadata": {},
     "output_type": "execute_result"
    }
   ],
   "source": [
    "hash(T)"
   ]
  },
  {
   "cell_type": "markdown",
   "id": "b24e5f0b",
   "metadata": {},
   "source": [
    "# HeapSort\n",
    "***"
   ]
  },
  {
   "cell_type": "markdown",
   "id": "8ef65c93",
   "metadata": {},
   "source": [
    "Now that we have a better understanding on list and how to use them we can take a look into HeapSortand how it works and how to use it."
   ]
  },
  {
   "cell_type": "markdown",
   "id": "caa2ccf6",
   "metadata": {},
   "source": [
    "## Why we use HeapSort?\n",
    "***"
   ]
  },
  {
   "cell_type": "markdown",
   "id": "21febad4",
   "metadata": {},
   "source": [
    "Heap Sort is the most efficient sorting algorithm in comparison to others. Heap Sort is great for large list of data because HeapSort increases logarithmically meaning it is optimal to get through large amounts of data unlike other algorithms and slow down as the data set gets bigger. Heap Sorts memory useage is also the most efficient, the only memory it needs is whats used to hold the data list its self it requires no extra space to work. Heap Sort is also the most consistent sorting algorithm out there preforming reliably every time."
   ]
  },
  {
   "cell_type": "markdown",
   "id": "989a70fc",
   "metadata": {},
   "source": [
    "## How HeapSort works\n",
    "***"
   ]
  },
  {
   "cell_type": "markdown",
   "id": "361fc495",
   "metadata": {},
   "source": [
    "Heap Sort works by creating a binary tree of nodes from the data list it was given, this list is unsorted. The first thing it would do is find whats called the max heap to do this in python we would use the heapify function, this is to sort the tree into ascending order. You can see this in the image below."
   ]
  },
  {
   "cell_type": "markdown",
   "id": "4c54d3d9",
   "metadata": {},
   "source": [
    "<img src = \"maxheap.png\"/>"
   ]
  },
  {
   "cell_type": "markdown",
   "id": "705a3cfe",
   "metadata": {},
   "source": [
    "After the heap is created we swap the root node mean the first one with the last node to do this in python we use the swap function. After this is done we remove the node from the binary tree and consider it sorted. We do this untill one node remains and the list is sorted.\n",
    "img ref:[HackerEarth.com](https://www.hackerearth.com/practice/algorithms/sorting/heap-sort/tutorial/)"
   ]
  },
  {
   "cell_type": "markdown",
   "id": "d7b34af4",
   "metadata": {},
   "source": [
    "## Implementing HeapSort\n",
    "***"
   ]
  },
  {
   "cell_type": "code",
   "execution_count": 16,
   "id": "90253328",
   "metadata": {},
   "outputs": [],
   "source": [
    "#HeapSort in Action\n",
    "def siftDown(L, parent, end):\n",
    "    \"\"\"L[parent:end+1] should almost be a max heap.\n",
    "       siftDown repairs it so that it is one.\"\"\"\n",
    "    \n",
    "    # Keep track of the number of comparisons.\n",
    "    no_comparisons = 0\n",
    "    \n",
    "    # While parent is actually a parent (has at least a left child).\n",
    "    while 2*parent + 1 <= end:\n",
    "        # The indices of the children of parent.\n",
    "        lchild = 2 * parent + 1\n",
    "        rchild = 2 * parent + 2\n",
    "        \n",
    "        # the parent is larger than the children.\n",
    "        swap = parent\n",
    "        # Checking if the parent smaller than the left child\n",
    "        if L[swap] < L[lchild]:\n",
    "            # Then swap is set to index of left child.\n",
    "            swap = lchild\n",
    "            # Increment no_comparisons.\n",
    "            no_comparisons = no_comparisons + 1\n",
    "        # Check if right child exists and is smaller than L[swap].\n",
    "        if rchild <= end and L[swap] < L[rchild]:\n",
    "            # Then swap is set to index of right child.\n",
    "            swap = rchild\n",
    "            # Increment no_comparisons.\n",
    "            no_comparisons = no_comparisons + 1\n",
    "        # When the parent is bigger than the child its a max heap\n",
    "        if swap == parent:\n",
    "            break \n",
    "        else:\n",
    "            # Swap the parent with the bigger child.\n",
    "            L[parent], L[swap] = L[swap], L[parent]\n",
    "            # Set parent to bigger child's index.\n",
    "            parent = swap\n",
    "    \n",
    "    # Return the number of comparisons.\n",
    "    return no_comparisons"
   ]
  },
  {
   "cell_type": "code",
   "execution_count": 17,
   "id": "8484a223",
   "metadata": {},
   "outputs": [],
   "source": [
    "def heapsort(L):\n",
    "    #Sorts the list L in-place using Heap Sort.\n",
    "    \n",
    "    # Keep track of the number of comparisons.\n",
    "    no_comparisons = 0\n",
    "    # Index of the last element.\n",
    "    last_element = len(L) - 1\n",
    "    # get the last parent.\n",
    "    last_parent = (last_element - 1) // 2\n",
    "    # Loop backwards through all parents.\n",
    "    for parent in range(last_parent, -1, -1):\n",
    "        # Sift down.\n",
    "        no_comparisons = no_comparisons + siftDown(L, parent, last_element)\n",
    "\n",
    "    # Segregate the list L into two parts:\n",
    "    #   1. L[:end] is a max heap\n",
    "    #   2. Each element beyond end is greater than everything before it.\n",
    "    # While there are still elements in the heap.\n",
    "    for end in range(last_element, 0, -1):\n",
    "        # Swap the element at index 0 with the element at index end.\n",
    "        L[0], L[end] = L[end], L[0]\n",
    "        # Fix the heap - the root is currently out of place.\n",
    "        no_comparisons = no_comparisons + siftDown(L, 0, end - 1)\n",
    "    \n",
    "    # Return the number of comparisons.\n",
    "    return no_comparisons"
   ]
  },
  {
   "cell_type": "code",
   "execution_count": 18,
   "id": "ac965bd9",
   "metadata": {},
   "outputs": [],
   "source": [
    "L = [27, 4, 18, 12, 9, 26, 20, 2]"
   ]
  },
  {
   "cell_type": "code",
   "execution_count": 19,
   "id": "7257380f",
   "metadata": {},
   "outputs": [
    {
     "data": {
      "text/plain": [
       "[27, 4, 18, 12, 9, 26, 20, 2]"
      ]
     },
     "execution_count": 19,
     "metadata": {},
     "output_type": "execute_result"
    }
   ],
   "source": [
    "L"
   ]
  },
  {
   "cell_type": "code",
   "execution_count": 20,
   "id": "c3bd3d5d",
   "metadata": {},
   "outputs": [
    {
     "data": {
      "text/plain": [
       "[2, 4, 9, 12, 18, 20, 26, 27]"
      ]
     },
     "execution_count": 20,
     "metadata": {},
     "output_type": "execute_result"
    }
   ],
   "source": [
    "# Heap sort working\n",
    "heapsort(L)\n",
    "L"
   ]
  },
  {
   "cell_type": "markdown",
   "id": "994e6654",
   "metadata": {},
   "source": [
    "## Preformance\n",
    "***"
   ]
  },
  {
   "cell_type": "markdown",
   "id": "784a2f25",
   "metadata": {},
   "source": [
    "Heapsort is an efficient, unstable sorting algorithm with an average, best-case, and worst-case time complexity of O(n log n).\n",
    "\n",
    "ref: [HappyCoders.eu](https://www.happycoders.eu/algorithms/heapsort/#:~:text=Heapsort%20is%20an%20efficient%2C%20unstable,less%20commonly%20encountered%20in%20practice.)"
   ]
  },
  {
   "cell_type": "code",
   "execution_count": null,
   "id": "bfc2baae",
   "metadata": {},
   "outputs": [],
   "source": []
  }
 ],
 "metadata": {
  "kernelspec": {
   "display_name": "Python 3 (ipykernel)",
   "language": "python",
   "name": "python3"
  },
  "language_info": {
   "codemirror_mode": {
    "name": "ipython",
    "version": 3
   },
   "file_extension": ".py",
   "mimetype": "text/x-python",
   "name": "python",
   "nbconvert_exporter": "python",
   "pygments_lexer": "ipython3",
   "version": "3.9.7"
  }
 },
 "nbformat": 4,
 "nbformat_minor": 5
}
